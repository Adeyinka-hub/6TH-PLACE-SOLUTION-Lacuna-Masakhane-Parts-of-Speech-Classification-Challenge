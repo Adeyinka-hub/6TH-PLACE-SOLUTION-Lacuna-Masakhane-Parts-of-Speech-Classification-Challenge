{
  "cells": [
    {
      "cell_type": "code",
      "execution_count": null,
      "metadata": {
        "id": "d5qzOVeNp9li"
      },
      "outputs": [],
      "source": [
        "!nvidia-smi"
      ]
    },
    {
      "cell_type": "code",
      "execution_count": null,
      "metadata": {
        "id": "9UjGmmSI6SkW"
      },
      "outputs": [],
      "source": [
        "!pip uninstall -y torchtext --quiet\n",
        "!pip install -qq torchtext==0.6.0\n",
        "!pip install -qq torch==1.11.0 pytorch-lightning==1.2.2 --quiet\n",
        "!pip install -U transformers[torch] --quiet\n",
        "!pip install -qq datasets --quiet\n",
        "!pip install -qq accelerate -U --quiet"
      ]
    },
    {
      "cell_type": "code",
      "execution_count": null,
      "metadata": {
        "id": "UqYrLswdVgBC"
      },
      "outputs": [],
      "source": [
        "import io\n",
        "import os\n",
        "import sys\n",
        "import gc\n",
        "import pickle\n",
        "import random\n",
        "import termcolor\n",
        "import warnings\n",
        "import shutil\n",
        "import math\n",
        "from functools import partial\n",
        "from datetime import datetime\n",
        "from dataclasses import dataclass\n",
        "from pathlib import Path\n",
        "from typing import List\n",
        "\n",
        "import pandas as pd\n",
        "import numpy as np\n",
        "from tqdm.auto import tqdm\n",
        "\n",
        "from scipy.special import softmax\n",
        "\n",
        "from sklearn.model_selection import StratifiedKFold\n",
        "from sklearn.metrics import accuracy_score\n",
        "\n",
        "import torch\n",
        "import torch.optim as optim\n",
        "import torch.nn as nn\n",
        "import torch.nn.functional as F\n",
        "from torch.utils.data import DataLoader, Sampler\n",
        "from tqdm import tqdm\n",
        "import random\n",
        "import os\n",
        "import re\n",
        "import string\n",
        "\n",
        "import warnings\n",
        "warnings.filterwarnings('ignore')"
      ]
    },
    {
      "cell_type": "code",
      "execution_count": null,
      "metadata": {
        "id": "cH8qq0TeWyA5"
      },
      "outputs": [],
      "source": [
        "import datasets\n",
        "from datasets import DatasetDict, Dataset\n",
        "\n",
        "import transformers\n",
        "from transformers import (\n",
        "    AutoModel, AutoTokenizer, AdamW, get_linear_schedule_with_warmup,\n",
        "    AutoModelForMaskedLM, Trainer, TrainingArguments, DataCollatorForLanguageModeling,\n",
        "    EarlyStoppingCallback, AutoModelForTokenClassification,\n",
        ")"
      ]
    },
    {
      "cell_type": "code",
      "execution_count": null,
      "metadata": {
        "id": "Y6mJnvOnm7Dp"
      },
      "outputs": [],
      "source": [
        "!git clone https://github.com/NtemKenyor/masakhane-pos"
      ]
    },
    {
      "cell_type": "markdown",
      "metadata": {
        "id": "rNKKqU5lW1i5"
      },
      "source": [
        "# Config"
      ]
    },
    {
      "cell_type": "code",
      "execution_count": null,
      "metadata": {
        "colab": {
          "base_uri": "https://localhost:8080/"
        },
        "id": "J4eBqKZPWp2a",
        "outputId": "27797754-c8c7-4b4a-95c2-3051a8e0fc05"
      },
      "outputs": [
        {
          "name": "stdout",
          "output_type": "stream",
          "text": [
            "DEBUG:\t True\n",
            "SAVE_PATH:\t None\n",
            "NUM_WORKERS:\t 56\n",
            "GPUS:\t 1\n"
          ]
        }
      ],
      "source": [
        "DEBUG = True\n",
        "SAVE_PATH = None\n",
        "SEED = 42\n",
        "NOW = datetime.strftime(datetime.now() , \"%m%d\")\n",
        "\n",
        "SAVE_PATH = Path(f'/content/lightning-logs/')\n",
        "SAVE_PATH.mkdir(exist_ok=True)\n",
        "\n",
        "NUM_WORKERS = os.cpu_count()\n",
        "GPUS = 1 if torch.cuda.is_available() else None\n",
        "\n",
        "print(\"DEBUG:\\t\", DEBUG)\n",
        "print(\"SAVE_PATH:\\t\", SAVE_PATH)\n",
        "print(\"NUM_WORKERS:\\t\", NUM_WORKERS)\n",
        "print(\"GPUS:\\t\", GPUS)"
      ]
    },
    {
      "cell_type": "markdown",
      "metadata": {
        "id": "ayFMoOiGIquQ"
      },
      "source": [
        "#**Possible language combinations for Model training:**"
      ]
    },
    {
      "cell_type": "code",
      "execution_count": null,
      "metadata": {
        "colab": {
          "base_uri": "https://localhost:8080/"
        },
        "id": "rJOUHrCtInD9",
        "outputId": "e978b8ff-1c4b-4a07-97c6-1dc829c34452"
      },
      "outputs": [
        {
          "data": {
            "text/plain": [
              "[['wol', 'pcm', 'sna'],\n",
              " ['wol', 'pcm', 'xho'],\n",
              " ['wol', 'pcm', 'bam'],\n",
              " ['wol', 'pcm', 'lug'],\n",
              " ['wol', 'pcm', 'swa'],\n",
              " ['wol', 'pcm', 'sna', 'xho'],\n",
              " ['wol', 'pcm', 'sna', 'bam'],\n",
              " ['wol', 'pcm', 'xho', 'bam'],\n",
              " ['wol', 'pcm', 'lug', 'swa'],\n",
              " ['wol', 'pcm', 'sna', 'lug'],\n",
              " ['wol', 'pcm', 'sna', 'swa'],\n",
              " ['wol', 'pcm', 'xho', 'lug'],\n",
              " ['wol', 'pcm', 'xho', 'swa'],\n",
              " ['wol', 'pcm', 'bam', 'lug'],\n",
              " ['wol', 'pcm', 'bam', 'swa'],\n",
              " ['wol', 'pcm', 'sna', 'xho', 'bam'],\n",
              " ['wol', 'pcm', 'sna', 'lug', 'swa'],\n",
              " ['wol', 'pcm', 'xho', 'lug', 'swa'],\n",
              " ['wol', 'pcm', 'bam', 'lug', 'swa'],\n",
              " ['wol', 'pcm', 'sna', 'xho', 'lug'],\n",
              " ['wol', 'pcm', 'sna', 'xho', 'swa'],\n",
              " ['wol', 'pcm', 'sna', 'bam', 'lug'],\n",
              " ['wol', 'pcm', 'sna', 'bam', 'swa'],\n",
              " ['wol', 'pcm', 'xho', 'bam', 'lug'],\n",
              " ['wol', 'pcm', 'xho', 'bam', 'swa'],\n",
              " ['wol', 'pcm', 'sna', 'xho', 'lug', 'swa'],\n",
              " ['wol', 'pcm', 'sna', 'bam', 'lug', 'swa'],\n",
              " ['wol', 'pcm', 'xho', 'bam', 'lug', 'swa'],\n",
              " ['wol', 'pcm', 'sna', 'xho', 'bam', 'lug'],\n",
              " ['wol', 'pcm', 'sna', 'xho', 'bam', 'swa'],\n",
              " ['wol', 'pcm', 'sna', 'xho', 'bam', 'lug', 'swa']]"
            ]
          },
          "execution_count": 8,
          "metadata": {},
          "output_type": "execute_result"
        }
      ],
      "source": [
        "from itertools import combinations\n",
        "\n",
        "tsn_langs = ['sna', 'xho', 'zul']\n",
        "tsn_valid = []\n",
        "for r in range(1, len(tsn_langs)+1):\n",
        "    tsn_valid.extend(list(combinations(tsn_langs, r=r)))\n",
        "\n",
        "luo_langs = ['lug', 'kin']\n",
        "luo_valid = []\n",
        "for r in range(1, len(luo_langs)+1):\n",
        "    luo_valid.extend(list(combinations(luo_langs, r=r)))\n",
        "\n",
        "tsn_luo_valid = []\n",
        "extra_valid = ['wol', 'pcm']\n",
        "for tsn_ in tsn_valid:\n",
        "    tsn_luo_valid.append([*extra_valid, *tsn_])\n",
        "for luo_ in luo_valid:\n",
        "    tsn_luo_valid.append([*extra_valid, *luo_])\n",
        "for tsn_ in tsn_valid:\n",
        "    for luo_ in luo_valid:\n",
        "        tsn_luo_valid.append([*extra_valid, *tsn_, *luo_])\n",
        "tsn_luo_valid.sort(key = len)\n",
        "tsn_luo_valid"
      ]
    },
    {
      "cell_type": "markdown",
      "metadata": {
        "id": "1TbUR3xVf_BK"
      },
      "source": [
        "# **Model choice:**\n",
        "- Davlan/afro-xlmr-large-75L\n",
        "- Davlan/afro-xlmr-large-61L\n",
        "- Davlan/afro-xlmr-large-29L\n",
        "- Davlan/afro-xlmr-large\n",
        "- Davlan/afro-xlmr-small\n",
        "- Davlan/xlm-roberta-large-masakhaner"
      ]
    },
    {
      "cell_type": "code",
      "execution_count": null,
      "metadata": {
        "colab": {
          "base_uri": "https://localhost:8080/"
        },
        "id": "A5jUuTr1Z1uT",
        "outputId": "b90c8c8e-42aa-4e3e-ab6f-c24a9c9d8970"
      },
      "outputs": [
        {
          "data": {
            "text/plain": [
              "Config(model_name='Davlan/afro-xlmr-large-75L', model_type='xlmroberta', max_seq_len=200, test_path='Test.csv', data_dir='data', lr=1e-06, batch_size=16, num_epoch=30, gradient_accumulation_steps=1, warmup_steps=100)"
            ]
          },
          "execution_count": 9,
          "metadata": {},
          "output_type": "execute_result"
        }
      ],
      "source": [
        "@dataclass\n",
        "class Config:\n",
        "    model_name:str = 'Davlan/afro-xlmr-large-75L'\n",
        "    model_type:str = \"xlmroberta\"\n",
        "    max_seq_len:int = 200\n",
        "    test_path:str = \"/content/masakhane-pos/data/Test.csv\"\n",
        "    train_path:str = \"/content/masakhane-pos/data/africa_lan.csv\"\n",
        "    data_dir:str = \"/content/masakhane-pos/data\"\n",
        "    num_classes = None\n",
        "    label_mappings = None\n",
        "    valid_languages = ['wol','sna','pcm']\n",
        "    lr:float = 1e-6\n",
        "    batch_size: int = 16\n",
        "    num_epoch:int = 30\n",
        "    gradient_accumulation_steps: int = 1\n",
        "    warmup_steps: int = 100\n",
        "\n",
        "    def __post_init__(self):\n",
        "        pass\n",
        "\n",
        "cfg = Config()\n",
        "cfg"
      ]
    },
    {
      "cell_type": "markdown",
      "metadata": {
        "id": "bK3BX3XXZ7vq"
      },
      "source": [
        "# Setup tokenizer"
      ]
    },
    {
      "cell_type": "code",
      "execution_count": null,
      "metadata": {
        "id": "TjfXlBjcZ47H"
      },
      "outputs": [],
      "source": [
        "tokenizer = AutoTokenizer.from_pretrained(cfg.model_name)"
      ]
    },
    {
      "cell_type": "markdown",
      "metadata": {
        "id": "NnBL26vOZtEu"
      },
      "source": [
        "# **Seeding:**"
      ]
    },
    {
      "cell_type": "code",
      "execution_count": null,
      "metadata": {
        "id": "rTzDqZ1uLkm_"
      },
      "outputs": [],
      "source": [
        "def set_seed(seed=42):\n",
        "    random.seed(seed)\n",
        "    np.random.seed(seed)\n",
        "    os.environ[\"PYTHONHASHEDSEED\"] = str(seed)\n",
        "\n",
        "    torch.manual_seed(seed)\n",
        "    torch.cuda.manual_seed(seed)\n",
        "    torch.cuda.manual_seed_all(seed)\n",
        "\n",
        "    torch.backends.cudnn.deterministic = True\n",
        "    transformers.set_seed(seed)\n",
        "\n",
        "set_seed(SEED)"
      ]
    },
    {
      "cell_type": "markdown",
      "metadata": {
        "id": "aYC4CWBTW5PG"
      },
      "source": [
        "# Load Data"
      ]
    },
    {
      "cell_type": "code",
      "execution_count": null,
      "metadata": {
        "colab": {
          "base_uri": "https://localhost:8080/",
          "height": 112
        },
        "id": "fteMz2ITH_s0",
        "outputId": "1ff1c497-c630-47cf-a629-a3b1c21d302f"
      },
      "outputs": [
        {
          "data": {
            "text/html": [
              "<div>\n",
              "<style scoped>\n",
              "    .dataframe tbody tr th:only-of-type {\n",
              "        vertical-align: middle;\n",
              "    }\n",
              "\n",
              "    .dataframe tbody tr th {\n",
              "        vertical-align: top;\n",
              "    }\n",
              "\n",
              "    .dataframe thead th {\n",
              "        text-align: right;\n",
              "    }\n",
              "</style>\n",
              "<table border=\"1\" class=\"dataframe\">\n",
              "  <thead>\n",
              "    <tr style=\"text-align: right;\">\n",
              "      <th></th>\n",
              "      <th>Id</th>\n",
              "      <th>Word</th>\n",
              "      <th>Language</th>\n",
              "      <th>Pos</th>\n",
              "    </tr>\n",
              "  </thead>\n",
              "  <tbody>\n",
              "    <tr>\n",
              "      <th>0</th>\n",
              "      <td>Id00qog2f11n_0</td>\n",
              "      <td>Ne</td>\n",
              "      <td>luo</td>\n",
              "      <td>NaN</td>\n",
              "    </tr>\n",
              "    <tr>\n",
              "      <th>1</th>\n",
              "      <td>Id00qog2f11n_1</td>\n",
              "      <td>otim</td>\n",
              "      <td>luo</td>\n",
              "      <td>NaN</td>\n",
              "    </tr>\n",
              "  </tbody>\n",
              "</table>\n",
              "</div>"
            ],
            "text/plain": [
              "               Id  Word Language  Pos\n",
              "0  Id00qog2f11n_0    Ne      luo  NaN\n",
              "1  Id00qog2f11n_1  otim      luo  NaN"
            ]
          },
          "execution_count": 13,
          "metadata": {},
          "output_type": "execute_result"
        }
      ],
      "source": [
        "df_test = pd.read_csv(Config.test_path)\n",
        "df_test.head(2)"
      ]
    },
    {
      "cell_type": "code",
      "execution_count": null,
      "metadata": {
        "colab": {
          "base_uri": "https://localhost:8080/",
          "height": 181
        },
        "id": "Q9JbJjE-o0Nt",
        "outputId": "6cbba966-776a-4c24-b241-41e8ad87358d"
      },
      "outputs": [
        {
          "data": {
            "text/html": [
              "<div>\n",
              "<style scoped>\n",
              "    .dataframe tbody tr th:only-of-type {\n",
              "        vertical-align: middle;\n",
              "    }\n",
              "\n",
              "    .dataframe tbody tr th {\n",
              "        vertical-align: top;\n",
              "    }\n",
              "\n",
              "    .dataframe thead th {\n",
              "        text-align: right;\n",
              "    }\n",
              "</style>\n",
              "<table border=\"1\" class=\"dataframe\">\n",
              "  <thead>\n",
              "    <tr style=\"text-align: right;\">\n",
              "      <th></th>\n",
              "      <th>sentence_Id</th>\n",
              "      <th>Id</th>\n",
              "      <th>Word</th>\n",
              "      <th>Language</th>\n",
              "      <th>Pos</th>\n",
              "    </tr>\n",
              "  </thead>\n",
              "  <tbody>\n",
              "    <tr>\n",
              "      <th>0</th>\n",
              "      <td>Id00qog2f11n</td>\n",
              "      <td>[Id00qog2f11n_0, Id00qog2f11n_1, Id00qog2f11n_...</td>\n",
              "      <td>[Ne, otim, penj, e, kind, Februar, tarik, 9, g...</td>\n",
              "      <td>[luo, luo, luo, luo, luo, luo, luo, luo, luo, ...</td>\n",
              "      <td>[X, X, X, X, X, X, X, X, X, X, X, X, X, X, X, ...</td>\n",
              "    </tr>\n",
              "    <tr>\n",
              "      <th>1</th>\n",
              "      <td>Id01lywjj7oz</td>\n",
              "      <td>[Id01lywjj7oz_0, Id01lywjj7oz_1, Id01lywjj7oz_...</td>\n",
              "      <td>[Sifuna, ne, ojiwo, jonyuol, kod, joma, moko, ...</td>\n",
              "      <td>[luo, luo, luo, luo, luo, luo, luo, luo, luo, ...</td>\n",
              "      <td>[X, X, X, X, X, X, X, X, X, X, X, X, X, X, X, ...</td>\n",
              "    </tr>\n",
              "  </tbody>\n",
              "</table>\n",
              "</div>"
            ],
            "text/plain": [
              "    sentence_Id                                                 Id  \\\n",
              "0  Id00qog2f11n  [Id00qog2f11n_0, Id00qog2f11n_1, Id00qog2f11n_...   \n",
              "1  Id01lywjj7oz  [Id01lywjj7oz_0, Id01lywjj7oz_1, Id01lywjj7oz_...   \n",
              "\n",
              "                                                Word  \\\n",
              "0  [Ne, otim, penj, e, kind, Februar, tarik, 9, g...   \n",
              "1  [Sifuna, ne, ojiwo, jonyuol, kod, joma, moko, ...   \n",
              "\n",
              "                                            Language  \\\n",
              "0  [luo, luo, luo, luo, luo, luo, luo, luo, luo, ...   \n",
              "1  [luo, luo, luo, luo, luo, luo, luo, luo, luo, ...   \n",
              "\n",
              "                                                 Pos  \n",
              "0  [X, X, X, X, X, X, X, X, X, X, X, X, X, X, X, ...  \n",
              "1  [X, X, X, X, X, X, X, X, X, X, X, X, X, X, X, ...  "
            ]
          },
          "execution_count": 14,
          "metadata": {},
          "output_type": "execute_result"
        }
      ],
      "source": [
        "df_test['Pos'] = 'X'  # assumed for now\n",
        "df_test['sentence_Id'] = df_test['Id'].apply(lambda x: x.split('_')[0])\n",
        "df_test = df_test.groupby('sentence_Id').agg(list).reset_index()\n",
        "df_test.head(2)"
      ]
    },
    {
      "cell_type": "code",
      "execution_count": null,
      "metadata": {
        "id": "ZWzcGA20o0Nu"
      },
      "outputs": [],
      "source": [
        "def read_examples_from_file(file_path):\n",
        "    example_words = []\n",
        "    example_labels = []\n",
        "    with open(file_path, encoding=\"utf-8\") as f:\n",
        "        words = []\n",
        "        labels = []\n",
        "        for line in f:\n",
        "            line = line.strip()\n",
        "            if len(line) < 2  or line == \"\\n\":\n",
        "                if words:\n",
        "                    example_words.append(words)\n",
        "                    example_labels.append(labels)\n",
        "\n",
        "                    words = []\n",
        "                    labels = []\n",
        "            else:\n",
        "                splits = line.split(\" \")\n",
        "                words.append(splits[0])\n",
        "                if len(splits) > 1:\n",
        "                    labels.append(splits[-1].replace(\"\\n\", \"\"))\n",
        "                else:\n",
        "                    # Examples could have no label for mode = \"test\"\n",
        "                    labels.append(\"O\")\n",
        "        if words:\n",
        "            example_words.append(words)\n",
        "            example_labels.append(labels)\n",
        "    return example_words, example_labels"
      ]
    },
    {
      "cell_type": "code",
      "execution_count": null,
      "metadata": {
        "id": "fsTPOqG7o0Nu"
      },
      "outputs": [],
      "source": [
        "import glob"
      ]
    },
    {
      "cell_type": "code",
      "execution_count": null,
      "metadata": {
        "colab": {
          "base_uri": "https://localhost:8080/"
        },
        "id": "78eV40gao0Nv",
        "outputId": "8c493264-3994-4a9c-df71-559271da5d01"
      },
      "outputs": [
        {
          "data": {
            "text/plain": [
              "['wol', 'sna', 'pcm']"
            ]
          },
          "execution_count": 17,
          "metadata": {},
          "output_type": "execute_result"
        }
      ],
      "source": [
        "cfg.valid_languages"
      ]
    },
    {
      "cell_type": "code",
      "execution_count": null,
      "metadata": {
        "id": "RNrS3PxLo0Nw"
      },
      "outputs": [],
      "source": [
        "train_words = []\n",
        "train_labels = []\n",
        "\n",
        "valid_words = []\n",
        "valid_labels = []\n",
        "\n",
        "for file_path in glob.glob(f\"{cfg.data_dir}/**/*.txt\"):\n",
        "    words_list, labels_list = read_examples_from_file(file_path)\n",
        "\n",
        "    language = file_path.split(os.sep)[-2]\n",
        "    if language in cfg.valid_languages:\n",
        "        valid_words.extend(words_list)\n",
        "        valid_labels.extend(labels_list)\n",
        "    else:\n",
        "        train_words.extend(words_list)\n",
        "        train_labels.extend(labels_list)"
      ]
    },
    {
      "cell_type": "code",
      "execution_count": null,
      "metadata": {
        "colab": {
          "base_uri": "https://localhost:8080/"
        },
        "id": "YT0maUIro0Nw",
        "outputId": "bede8c76-cecc-47d7-8669-0feaf5239945"
      },
      "outputs": [
        {
          "data": {
            "text/plain": [
              "(22916, 22916, 4557, 4557)"
            ]
          },
          "execution_count": 19,
          "metadata": {},
          "output_type": "execute_result"
        }
      ],
      "source": [
        "len(train_labels), len(train_words), len(valid_labels), len(valid_words)"
      ]
    },
    {
      "cell_type": "code",
      "execution_count": null,
      "metadata": {
        "colab": {
          "base_uri": "https://localhost:8080/",
          "height": 112
        },
        "id": "VEpLq6_eo0Ny",
        "outputId": "43a2af91-62bf-4b46-a46e-b618c6484825"
      },
      "outputs": [
        {
          "data": {
            "text/html": [
              "<div>\n",
              "<style scoped>\n",
              "    .dataframe tbody tr th:only-of-type {\n",
              "        vertical-align: middle;\n",
              "    }\n",
              "\n",
              "    .dataframe tbody tr th {\n",
              "        vertical-align: top;\n",
              "    }\n",
              "\n",
              "    .dataframe thead th {\n",
              "        text-align: right;\n",
              "    }\n",
              "</style>\n",
              "<table border=\"1\" class=\"dataframe\">\n",
              "  <thead>\n",
              "    <tr style=\"text-align: right;\">\n",
              "      <th></th>\n",
              "      <th>Word</th>\n",
              "      <th>Pos</th>\n",
              "    </tr>\n",
              "  </thead>\n",
              "  <tbody>\n",
              "    <tr>\n",
              "      <th>0</th>\n",
              "      <td>[Ni, yo, ihangayikishije, kurusha, izindi, zos...</td>\n",
              "      <td>[VERB, PRON, VERB, VERB, PRON, PRON, VERB, CCO...</td>\n",
              "    </tr>\n",
              "    <tr>\n",
              "      <th>1</th>\n",
              "      <td>[Alpha, yo, imaze, kugera, mu, bihugu, bisaga,...</td>\n",
              "      <td>[PROPN, PRON, VERB, VERB, ADP, NOUN, VERB, NUM...</td>\n",
              "    </tr>\n",
              "  </tbody>\n",
              "</table>\n",
              "</div>"
            ],
            "text/plain": [
              "                                                Word  \\\n",
              "0  [Ni, yo, ihangayikishije, kurusha, izindi, zos...   \n",
              "1  [Alpha, yo, imaze, kugera, mu, bihugu, bisaga,...   \n",
              "\n",
              "                                                 Pos  \n",
              "0  [VERB, PRON, VERB, VERB, PRON, PRON, VERB, CCO...  \n",
              "1  [PROPN, PRON, VERB, VERB, ADP, NOUN, VERB, NUM...  "
            ]
          },
          "execution_count": 20,
          "metadata": {},
          "output_type": "execute_result"
        }
      ],
      "source": [
        "df_train = pd.DataFrame()\n",
        "df_train['Word'] = train_words\n",
        "df_train['Pos'] = train_labels\n",
        "df_train.head(2)"
      ]
    },
    {
      "cell_type": "code",
      "execution_count": null,
      "metadata": {
        "colab": {
          "base_uri": "https://localhost:8080/",
          "height": 112
        },
        "id": "dJqUIzxLo0Ny",
        "outputId": "f8cd7300-46d7-4b39-f7a6-9521c3187509"
      },
      "outputs": [
        {
          "data": {
            "text/html": [
              "<div>\n",
              "<style scoped>\n",
              "    .dataframe tbody tr th:only-of-type {\n",
              "        vertical-align: middle;\n",
              "    }\n",
              "\n",
              "    .dataframe tbody tr th {\n",
              "        vertical-align: top;\n",
              "    }\n",
              "\n",
              "    .dataframe thead th {\n",
              "        text-align: right;\n",
              "    }\n",
              "</style>\n",
              "<table border=\"1\" class=\"dataframe\">\n",
              "  <thead>\n",
              "    <tr style=\"text-align: right;\">\n",
              "      <th></th>\n",
              "      <th>Word</th>\n",
              "      <th>Pos</th>\n",
              "    </tr>\n",
              "  </thead>\n",
              "  <tbody>\n",
              "    <tr>\n",
              "      <th>0</th>\n",
              "      <td>[Nekuda, kwe, mabasa, avakabata, munguva, ye, ...</td>\n",
              "      <td>[SCONJ, ADP, NOUN, VERB, NOUN, ADP, NOUN, CCON...</td>\n",
              "    </tr>\n",
              "    <tr>\n",
              "      <th>1</th>\n",
              "      <td>[Nhoroondo, ye, kuimba, Chinx, akaimba, ne, va...</td>\n",
              "      <td>[NOUN, ADP, VERB, PROPN, VERB, ADP, NOUN, ADJ,...</td>\n",
              "    </tr>\n",
              "  </tbody>\n",
              "</table>\n",
              "</div>"
            ],
            "text/plain": [
              "                                                Word  \\\n",
              "0  [Nekuda, kwe, mabasa, avakabata, munguva, ye, ...   \n",
              "1  [Nhoroondo, ye, kuimba, Chinx, akaimba, ne, va...   \n",
              "\n",
              "                                                 Pos  \n",
              "0  [SCONJ, ADP, NOUN, VERB, NOUN, ADP, NOUN, CCON...  \n",
              "1  [NOUN, ADP, VERB, PROPN, VERB, ADP, NOUN, ADJ,...  "
            ]
          },
          "execution_count": 21,
          "metadata": {},
          "output_type": "execute_result"
        }
      ],
      "source": [
        "df_valid = pd.DataFrame()\n",
        "df_valid['Word'] = valid_words\n",
        "df_valid['Pos'] = valid_labels\n",
        "df_valid.head(2)"
      ]
    },
    {
      "cell_type": "code",
      "execution_count": null,
      "metadata": {
        "colab": {
          "base_uri": "https://localhost:8080/"
        },
        "id": "JmcjZkGJICt_",
        "outputId": "43e49e0b-2e4e-4762-a36f-41832e891004"
      },
      "outputs": [
        {
          "name": "stdout",
          "output_type": "stream",
          "text": [
            "(22916, 2) (4557, 2) (1208, 5)\n"
          ]
        }
      ],
      "source": [
        "print(df_train.shape, df_valid.shape, df_test.shape)\n",
        "\n",
        "labels = [\"X\", \"ADJ\", \"ADP\", \"ADV\", \"AUX\", \"CCONJ\", \"DET\", \"INTJ\", \"NOUN\", \"NUM\", \"PART\", \"PRON\", \"PROPN\", \"PUNCT\", \"SCONJ\", \"SYM\", \"VERB\"]\n",
        "cfg.num_classes = len(labels)"
      ]
    },
    {
      "cell_type": "markdown",
      "metadata": {
        "id": "qGc7acUfo0N0"
      },
      "source": [
        "# Preprocess Features"
      ]
    },
    {
      "cell_type": "code",
      "execution_count": null,
      "metadata": {
        "id": "Dol6ns_mo0N1"
      },
      "outputs": [],
      "source": [
        "def convert_to_feature(\n",
        "    row,\n",
        "    tokenizer=tokenizer,\n",
        "    label_list=labels,\n",
        "    max_seq_length=cfg.max_seq_len,\n",
        "    cls_token_at_end=False,\n",
        "    cls_token=\"[CLS]\",\n",
        "    cls_token_segment_id=1,\n",
        "    sep_token=\"[SEP]\",\n",
        "    sep_token_extra=False,\n",
        "    pad_on_left=False,\n",
        "    pad_token=0,\n",
        "    pad_token_segment_id=0,\n",
        "    pad_token_label_id=-100,\n",
        "    sequence_a_segment_id=0,\n",
        "    mask_padding_with_zero=True,\n",
        "):\n",
        "    \"\"\" Loads a data file into a list of `InputBatch`s\n",
        "        `cls_token_at_end` define the location of the CLS token:\n",
        "            - False (Default, BERT/XLM pattern): [CLS] + A + [SEP] + B + [SEP]\n",
        "            - True (XLNet/GPT pattern): A + [SEP] + B + [SEP] + [CLS]\n",
        "        `cls_token_segment_id` define the segment id associated to the CLS token (0 for BERT, 2 for XLNet)\n",
        "    \"\"\"\n",
        "\n",
        "    label_map = {label: i for i, label in enumerate(label_list)}\n",
        "\n",
        "    tokens = []\n",
        "    label_ids = []\n",
        "    for word, label in zip(row['Word'], row['Pos']):\n",
        "        word_tokens = tokenizer.tokenize(word)\n",
        "        tokens.extend(word_tokens)\n",
        "        # Use the real label id for the first token of the word, and padding ids for the remaining tokens\n",
        "        label_ids.extend([label_map[label]] + [pad_token_label_id] * (len(word_tokens) - 1))\n",
        "\n",
        "    # Account for [CLS] and [SEP] with \"- 2\" and with \"- 3\" for RoBERTa.\n",
        "    special_tokens_count = 3 if sep_token_extra else 2\n",
        "    if len(tokens) > max_seq_length - special_tokens_count:\n",
        "        tokens = tokens[: (max_seq_length - special_tokens_count)]\n",
        "        label_ids = label_ids[: (max_seq_length - special_tokens_count)]\n",
        "\n",
        "    tokens += [sep_token]\n",
        "    label_ids += [pad_token_label_id]\n",
        "    if sep_token_extra:\n",
        "        # roberta uses an extra separator b/w pairs of sentences\n",
        "        tokens += [sep_token]\n",
        "        label_ids += [pad_token_label_id]\n",
        "    segment_ids = [sequence_a_segment_id] * len(tokens)\n",
        "\n",
        "    if cls_token_at_end:\n",
        "        tokens += [cls_token]\n",
        "        label_ids += [pad_token_label_id]\n",
        "        segment_ids += [cls_token_segment_id]\n",
        "    else:\n",
        "        tokens = [cls_token] + tokens\n",
        "        label_ids = [pad_token_label_id] + label_ids\n",
        "        segment_ids = [cls_token_segment_id] + segment_ids\n",
        "\n",
        "    input_ids = tokenizer.convert_tokens_to_ids(tokens)\n",
        "\n",
        "    # The mask has 1 for real tokens and 0 for padding tokens.\n",
        "    # Only real tokens are attended to.\n",
        "    input_mask = [1 if mask_padding_with_zero else 0] * len(input_ids)\n",
        "\n",
        "    # Zero-pad up to the sequence length.\n",
        "    padding_length = max_seq_length - len(input_ids)\n",
        "    if pad_on_left:\n",
        "        input_ids = ([pad_token] * padding_length) + input_ids\n",
        "        input_mask = ([0 if mask_padding_with_zero else 1] * padding_length) + input_mask\n",
        "        segment_ids = ([pad_token_segment_id] * padding_length) + segment_ids\n",
        "        label_ids = ([pad_token_label_id] * padding_length) + label_ids\n",
        "    else:\n",
        "        input_ids += [pad_token] * padding_length\n",
        "        input_mask += [0 if mask_padding_with_zero else 1] * padding_length\n",
        "        segment_ids += [pad_token_segment_id] * padding_length\n",
        "        label_ids += [pad_token_label_id] * padding_length\n",
        "\n",
        "    assert len(input_ids) == max_seq_length\n",
        "    assert len(input_mask) == max_seq_length\n",
        "    assert len(segment_ids) == max_seq_length\n",
        "\n",
        "    return dict(input_ids=input_ids, input_mask=input_mask, segment_ids=segment_ids, label_ids=label_ids)"
      ]
    },
    {
      "cell_type": "code",
      "execution_count": null,
      "metadata": {
        "colab": {
          "base_uri": "https://localhost:8080/",
          "height": 181
        },
        "id": "KyrkiDxDo0N3",
        "outputId": "8bd928f4-8266-45fe-f432-85bfec82737d"
      },
      "outputs": [
        {
          "name": "stdout",
          "output_type": "stream",
          "text": [
            "CPU times: user 16 s, sys: 83.3 ms, total: 16.1 s\n",
            "Wall time: 16.1 s\n"
          ]
        },
        {
          "data": {
            "text/html": [
              "<div>\n",
              "<style scoped>\n",
              "    .dataframe tbody tr th:only-of-type {\n",
              "        vertical-align: middle;\n",
              "    }\n",
              "\n",
              "    .dataframe tbody tr th {\n",
              "        vertical-align: top;\n",
              "    }\n",
              "\n",
              "    .dataframe thead th {\n",
              "        text-align: right;\n",
              "    }\n",
              "</style>\n",
              "<table border=\"1\" class=\"dataframe\">\n",
              "  <thead>\n",
              "    <tr style=\"text-align: right;\">\n",
              "      <th></th>\n",
              "      <th>input_ids</th>\n",
              "      <th>input_mask</th>\n",
              "      <th>segment_ids</th>\n",
              "      <th>label_ids</th>\n",
              "    </tr>\n",
              "  </thead>\n",
              "  <tbody>\n",
              "    <tr>\n",
              "      <th>0</th>\n",
              "      <td>[3, 1520, 3005, 8469, 31989, 783, 12787, 236, ...</td>\n",
              "      <td>[1, 1, 1, 1, 1, 1, 1, 1, 1, 1, 1, 1, 1, 1, 1, ...</td>\n",
              "      <td>[1, 0, 0, 0, 0, 0, 0, 0, 0, 0, 0, 0, 0, 0, 0, ...</td>\n",
              "      <td>[-100, 16, 11, 16, -100, -100, -100, -100, 16,...</td>\n",
              "    </tr>\n",
              "    <tr>\n",
              "      <th>1</th>\n",
              "      <td>[3, 76569, 3005, 4618, 731, 228, 28783, 842, 3...</td>\n",
              "      <td>[1, 1, 1, 1, 1, 1, 1, 1, 1, 1, 1, 1, 1, 1, 1, ...</td>\n",
              "      <td>[1, 0, 0, 0, 0, 0, 0, 0, 0, 0, 0, 0, 0, 0, 0, ...</td>\n",
              "      <td>[-100, 12, 11, 16, -100, 16, -100, 2, 8, -100,...</td>\n",
              "    </tr>\n",
              "  </tbody>\n",
              "</table>\n",
              "</div>"
            ],
            "text/plain": [
              "                                           input_ids  \\\n",
              "0  [3, 1520, 3005, 8469, 31989, 783, 12787, 236, ...   \n",
              "1  [3, 76569, 3005, 4618, 731, 228, 28783, 842, 3...   \n",
              "\n",
              "                                          input_mask  \\\n",
              "0  [1, 1, 1, 1, 1, 1, 1, 1, 1, 1, 1, 1, 1, 1, 1, ...   \n",
              "1  [1, 1, 1, 1, 1, 1, 1, 1, 1, 1, 1, 1, 1, 1, 1, ...   \n",
              "\n",
              "                                         segment_ids  \\\n",
              "0  [1, 0, 0, 0, 0, 0, 0, 0, 0, 0, 0, 0, 0, 0, 0, ...   \n",
              "1  [1, 0, 0, 0, 0, 0, 0, 0, 0, 0, 0, 0, 0, 0, 0, ...   \n",
              "\n",
              "                                           label_ids  \n",
              "0  [-100, 16, 11, 16, -100, -100, -100, -100, 16,...  \n",
              "1  [-100, 12, 11, 16, -100, 16, -100, 2, 8, -100,...  "
            ]
          },
          "execution_count": 24,
          "metadata": {},
          "output_type": "execute_result"
        }
      ],
      "source": [
        "%%time\n",
        "# train features\n",
        "train_features = pd.DataFrame(df_train.apply(lambda row: convert_to_feature(row), axis=1).tolist())\n",
        "train_features.head(2)"
      ]
    },
    {
      "cell_type": "code",
      "execution_count": null,
      "metadata": {
        "colab": {
          "base_uri": "https://localhost:8080/",
          "height": 181
        },
        "id": "cnF9LlzYo0N3",
        "outputId": "08b30e2c-cbb0-474e-b8a5-eb8237be218e"
      },
      "outputs": [
        {
          "name": "stdout",
          "output_type": "stream",
          "text": [
            "CPU times: user 3.59 s, sys: 15.7 ms, total: 3.61 s\n",
            "Wall time: 3.61 s\n"
          ]
        },
        {
          "data": {
            "text/html": [
              "<div>\n",
              "<style scoped>\n",
              "    .dataframe tbody tr th:only-of-type {\n",
              "        vertical-align: middle;\n",
              "    }\n",
              "\n",
              "    .dataframe tbody tr th {\n",
              "        vertical-align: top;\n",
              "    }\n",
              "\n",
              "    .dataframe thead th {\n",
              "        text-align: right;\n",
              "    }\n",
              "</style>\n",
              "<table border=\"1\" class=\"dataframe\">\n",
              "  <thead>\n",
              "    <tr style=\"text-align: right;\">\n",
              "      <th></th>\n",
              "      <th>input_ids</th>\n",
              "      <th>input_mask</th>\n",
              "      <th>segment_ids</th>\n",
              "      <th>label_ids</th>\n",
              "    </tr>\n",
              "  </thead>\n",
              "  <tbody>\n",
              "    <tr>\n",
              "      <th>0</th>\n",
              "      <td>[3, 82195, 6874, 16646, 291, 49967, 10, 48730,...</td>\n",
              "      <td>[1, 1, 1, 1, 1, 1, 1, 1, 1, 1, 1, 1, 1, 1, 1, ...</td>\n",
              "      <td>[1, 0, 0, 0, 0, 0, 0, 0, 0, 0, 0, 0, 0, 0, 0, ...</td>\n",
              "      <td>[-100, 14, -100, 2, 8, -100, 16, -100, -100, 8...</td>\n",
              "    </tr>\n",
              "    <tr>\n",
              "      <th>1</th>\n",
              "      <td>[3, 33101, 12393, 39413, 2422, 228, 60576, 627...</td>\n",
              "      <td>[1, 1, 1, 1, 1, 1, 1, 1, 1, 1, 1, 1, 1, 1, 1, ...</td>\n",
              "      <td>[1, 0, 0, 0, 0, 0, 0, 0, 0, 0, 0, 0, 0, 0, 0, ...</td>\n",
              "      <td>[-100, 8, -100, -100, 2, 16, -100, 12, -100, 1...</td>\n",
              "    </tr>\n",
              "  </tbody>\n",
              "</table>\n",
              "</div>"
            ],
            "text/plain": [
              "                                           input_ids  \\\n",
              "0  [3, 82195, 6874, 16646, 291, 49967, 10, 48730,...   \n",
              "1  [3, 33101, 12393, 39413, 2422, 228, 60576, 627...   \n",
              "\n",
              "                                          input_mask  \\\n",
              "0  [1, 1, 1, 1, 1, 1, 1, 1, 1, 1, 1, 1, 1, 1, 1, ...   \n",
              "1  [1, 1, 1, 1, 1, 1, 1, 1, 1, 1, 1, 1, 1, 1, 1, ...   \n",
              "\n",
              "                                         segment_ids  \\\n",
              "0  [1, 0, 0, 0, 0, 0, 0, 0, 0, 0, 0, 0, 0, 0, 0, ...   \n",
              "1  [1, 0, 0, 0, 0, 0, 0, 0, 0, 0, 0, 0, 0, 0, 0, ...   \n",
              "\n",
              "                                           label_ids  \n",
              "0  [-100, 14, -100, 2, 8, -100, 16, -100, -100, 8...  \n",
              "1  [-100, 8, -100, -100, 2, 16, -100, 12, -100, 1...  "
            ]
          },
          "execution_count": 25,
          "metadata": {},
          "output_type": "execute_result"
        }
      ],
      "source": [
        "%%time\n",
        "# valid features\n",
        "valid_features = pd.DataFrame(df_valid.apply(lambda row: convert_to_feature(row), axis=1).tolist())\n",
        "valid_features.head(2)"
      ]
    },
    {
      "cell_type": "code",
      "execution_count": null,
      "metadata": {
        "colab": {
          "base_uri": "https://localhost:8080/",
          "height": 181
        },
        "id": "USSgTtkRo0N4",
        "outputId": "49da9adf-ed3b-4cbc-aa85-a813491027fb"
      },
      "outputs": [
        {
          "name": "stdout",
          "output_type": "stream",
          "text": [
            "CPU times: user 921 ms, sys: 4.13 ms, total: 925 ms\n",
            "Wall time: 924 ms\n"
          ]
        },
        {
          "data": {
            "text/html": [
              "<div>\n",
              "<style scoped>\n",
              "    .dataframe tbody tr th:only-of-type {\n",
              "        vertical-align: middle;\n",
              "    }\n",
              "\n",
              "    .dataframe tbody tr th {\n",
              "        vertical-align: top;\n",
              "    }\n",
              "\n",
              "    .dataframe thead th {\n",
              "        text-align: right;\n",
              "    }\n",
              "</style>\n",
              "<table border=\"1\" class=\"dataframe\">\n",
              "  <thead>\n",
              "    <tr style=\"text-align: right;\">\n",
              "      <th></th>\n",
              "      <th>input_ids</th>\n",
              "      <th>input_mask</th>\n",
              "      <th>segment_ids</th>\n",
              "      <th>label_ids</th>\n",
              "    </tr>\n",
              "  </thead>\n",
              "  <tbody>\n",
              "    <tr>\n",
              "      <th>0</th>\n",
              "      <td>[3, 799, 36, 5083, 5551, 170, 28, 8562, 61783,...</td>\n",
              "      <td>[1, 1, 1, 1, 1, 1, 1, 1, 1, 1, 1, 1, 1, 1, 1, ...</td>\n",
              "      <td>[1, 0, 0, 0, 0, 0, 0, 0, 0, 0, 0, 0, 0, 0, 0, ...</td>\n",
              "      <td>[-100, 0, 0, -100, 0, -100, 0, 0, 0, 0, 0, 0, ...</td>\n",
              "    </tr>\n",
              "    <tr>\n",
              "      <th>1</th>\n",
              "      <td>[3, 602, 95635, 108, 36, 658, 3613, 741, 299, ...</td>\n",
              "      <td>[1, 1, 1, 1, 1, 1, 1, 1, 1, 1, 1, 1, 1, 1, 1, ...</td>\n",
              "      <td>[1, 0, 0, 0, 0, 0, 0, 0, 0, 0, 0, 0, 0, 0, 0, ...</td>\n",
              "      <td>[-100, 0, -100, 0, 0, -100, -100, 0, -100, -10...</td>\n",
              "    </tr>\n",
              "  </tbody>\n",
              "</table>\n",
              "</div>"
            ],
            "text/plain": [
              "                                           input_ids  \\\n",
              "0  [3, 799, 36, 5083, 5551, 170, 28, 8562, 61783,...   \n",
              "1  [3, 602, 95635, 108, 36, 658, 3613, 741, 299, ...   \n",
              "\n",
              "                                          input_mask  \\\n",
              "0  [1, 1, 1, 1, 1, 1, 1, 1, 1, 1, 1, 1, 1, 1, 1, ...   \n",
              "1  [1, 1, 1, 1, 1, 1, 1, 1, 1, 1, 1, 1, 1, 1, 1, ...   \n",
              "\n",
              "                                         segment_ids  \\\n",
              "0  [1, 0, 0, 0, 0, 0, 0, 0, 0, 0, 0, 0, 0, 0, 0, ...   \n",
              "1  [1, 0, 0, 0, 0, 0, 0, 0, 0, 0, 0, 0, 0, 0, 0, ...   \n",
              "\n",
              "                                           label_ids  \n",
              "0  [-100, 0, 0, -100, 0, -100, 0, 0, 0, 0, 0, 0, ...  \n",
              "1  [-100, 0, -100, 0, 0, -100, -100, 0, -100, -10...  "
            ]
          },
          "execution_count": 26,
          "metadata": {},
          "output_type": "execute_result"
        }
      ],
      "source": [
        "%%time\n",
        "# test features\n",
        "test_features = pd.DataFrame(df_test.apply(lambda row: convert_to_feature(row), axis=1).tolist())\n",
        "test_features.head(2)"
      ]
    },
    {
      "cell_type": "code",
      "execution_count": null,
      "metadata": {
        "colab": {
          "base_uri": "https://localhost:8080/"
        },
        "id": "h9f9S0pAo0N5",
        "outputId": "fe5c3531-21fe-49bb-e502-18f6ba5fce28"
      },
      "outputs": [
        {
          "data": {
            "text/plain": [
              "DatasetDict({\n",
              "    train: Dataset({\n",
              "        features: ['input_ids', 'input_mask', 'segment_ids', 'label_ids'],\n",
              "        num_rows: 22916\n",
              "    })\n",
              "    valid: Dataset({\n",
              "        features: ['input_ids', 'input_mask', 'segment_ids', 'label_ids'],\n",
              "        num_rows: 4557\n",
              "    })\n",
              "    test: Dataset({\n",
              "        features: ['input_ids', 'input_mask', 'segment_ids', 'label_ids'],\n",
              "        num_rows: 1208\n",
              "    })\n",
              "})"
            ]
          },
          "execution_count": 27,
          "metadata": {},
          "output_type": "execute_result"
        }
      ],
      "source": [
        "masakhane = DatasetDict({\n",
        "    \"train\": Dataset.from_pandas(train_features),\n",
        "    \"valid\": Dataset.from_pandas(valid_features),\n",
        "    \"test\": Dataset.from_pandas(test_features),\n",
        "})\n",
        "\n",
        "masakhane"
      ]
    },
    {
      "cell_type": "code",
      "execution_count": null,
      "metadata": {
        "id": "ce6y6T9ho0N6"
      },
      "outputs": [],
      "source": [
        "label_map = {i: label for i, label in enumerate(labels)}"
      ]
    },
    {
      "cell_type": "code",
      "execution_count": null,
      "metadata": {
        "id": "eH5OpzkCo0N6"
      },
      "outputs": [],
      "source": [
        "def compute_metrics(\n",
        "    eval_pred,\n",
        "    pad_token_label_id=-100,\n",
        "):\n",
        "    predictions, labels = eval_pred\n",
        "    preds = np.argmax(predictions, axis = -1)\n",
        "\n",
        "    out_label_list = []\n",
        "    preds_list = []\n",
        "    for i in range(labels.shape[0]):\n",
        "        for j in range(labels.shape[1]):\n",
        "            if labels[i, j] != pad_token_label_id:\n",
        "                out_label_list.append(label_map[labels[i][j]])\n",
        "                preds_list.append(label_map[preds[i][j]])\n",
        "\n",
        "    accuracy = accuracy_score(out_label_list, preds_list)\n",
        "    return {\"accuracy\": accuracy}"
      ]
    },
    {
      "cell_type": "code",
      "execution_count": null,
      "metadata": {
        "colab": {
          "base_uri": "https://localhost:8080/",
          "height": 136,
          "referenced_widgets": [
            "8c6512e4830b4000a38378bb6fa547c1",
            "af9b51a653aa4e82be54515979f6b62e",
            "ecca9a811c8c4ed6ba24a874cb0a82e0",
            "14fa7dc256df424c974cdfe04061e15b",
            "71bbb4d34412406ea76a82146bad7d26",
            "9d3111f95b504090a9a86ad881d1731b",
            "ceebaaa07e9e4d8eac9b1238f455d4ec",
            "6ceb64bd2f624b35bee748f1e88e55e1",
            "b51210dffc1f4d5abaa4ea7cc76ad7f9",
            "0f4e30935a1a4535be29db81e9f94684",
            "2b35d6a1b7da4e2a9fa786a82cd3d3ce",
            "5165b08120ba4652a0f1c46a361b27a3",
            "13e0e67b2a934f55ab549efe4049ddd6",
            "6059f62652684d5a82b3549381772cfd",
            "fa9fb150019e48438631c92ab3857201",
            "400e19fbd67946ee8d3fa946af1b406c",
            "e21ebdb9138f4ab1ad1b8eafe89ca375",
            "05e0fe5f31704bb28c5e09fda5bd5c02",
            "24b7b1b00dcd49d2a7d308ce5b2c6711",
            "65a26071a8264ba388aa7c6825b3a13a",
            "40d99664b3574a149f7548edd2adb27e",
            "5f45277925f241afab6d77a53314f92e"
          ]
        },
        "id": "v2cyypFsU-1t",
        "outputId": "b5563640-7fc9-44d2-ffb4-486ab3e141cd"
      },
      "outputs": [
        {
          "name": "stderr",
          "output_type": "stream",
          "text": [
            "Some weights of the model checkpoint at Davlan/afro-xlmr-large-75L were not used when initializing XLMRobertaForTokenClassification: ['lm_head.layer_norm.weight', 'lm_head.decoder.bias', 'lm_head.layer_norm.bias', 'lm_head.bias', 'lm_head.decoder.weight', 'lm_head.dense.bias', 'lm_head.dense.weight']\n",
            "- This IS expected if you are initializing XLMRobertaForTokenClassification from the checkpoint of a model trained on another task or with another architecture (e.g. initializing a BertForSequenceClassification model from a BertForPreTraining model).\n",
            "- This IS NOT expected if you are initializing XLMRobertaForTokenClassification from the checkpoint of a model that you expect to be exactly identical (initializing a BertForSequenceClassification model from a BertForSequenceClassification model).\n",
            "Some weights of XLMRobertaForTokenClassification were not initialized from the model checkpoint at Davlan/afro-xlmr-large-75L and are newly initialized: ['classifier.bias', 'classifier.weight']\n",
            "You should probably TRAIN this model on a down-stream task to be able to use it for predictions and inference.\n"
          ]
        }
      ],
      "source": [
        "model = AutoModelForTokenClassification.from_pretrained(\n",
        "    cfg.model_name,\n",
        "    num_labels = cfg.num_classes,\n",
        "    id2label={str(i): label for i, label in enumerate(labels)},\n",
        "    label2id={label: i for i, label in enumerate(labels)},\n",
        ")"
      ]
    },
    {
      "cell_type": "code",
      "execution_count": null,
      "metadata": {
        "colab": {
          "base_uri": "https://localhost:8080/"
        },
        "id": "tRsUIJNFo0N9",
        "outputId": "a1f767d7-dfcf-422a-8eeb-62cd2cc8048a"
      },
      "outputs": [
        {
          "data": {
            "text/plain": [
              "{'model_name': 'Davlan/afro-xlmr-large-75L',\n",
              " 'model_type': 'xlmroberta',\n",
              " 'max_seq_len': 200,\n",
              " 'test_path': 'Test.csv',\n",
              " 'data_dir': 'data',\n",
              " 'lr': 1e-06,\n",
              " 'batch_size': 16,\n",
              " 'num_epoch': 30,\n",
              " 'gradient_accumulation_steps': 1,\n",
              " 'warmup_steps': 100,\n",
              " 'num_classes': 17}"
            ]
          },
          "execution_count": 31,
          "metadata": {},
          "output_type": "execute_result"
        }
      ],
      "source": [
        "cfg.__dict__"
      ]
    },
    {
      "cell_type": "code",
      "execution_count": null,
      "metadata": {
        "id": "mOD_0ZESLknK",
        "outputId": "c39ef817-aa32-4bf1-8f30-612a3ea82e6e"
      },
      "outputs": [
        {
          "data": {
            "text/plain": [
              "1433"
            ]
          },
          "metadata": {},
          "output_type": "display_data"
        }
      ],
      "source": [
        "epoch_steps = int(np.ceil(len(masakhane['train']) / cfg.batch_size))\n",
        "display(epoch_steps)"
      ]
    },
    {
      "cell_type": "code",
      "execution_count": null,
      "metadata": {
        "id": "ciCLX92JLknM",
        "outputId": "581ded37-f09b-41a2-a793-510d6fc9925e"
      },
      "outputs": [
        {
          "data": {
            "text/plain": [
              "Config(model_name='Davlan/afro-xlmr-large-75L', model_type='xlmroberta', max_seq_len=200, test_path='Test.csv', data_dir='data', lr=1e-06, batch_size=16, num_epoch=30, gradient_accumulation_steps=1, warmup_steps=100)"
            ]
          },
          "execution_count": 33,
          "metadata": {},
          "output_type": "execute_result"
        }
      ],
      "source": [
        "cfg"
      ]
    },
    {
      "cell_type": "code",
      "execution_count": null,
      "metadata": {
        "id": "0bE0CThtVQRd"
      },
      "outputs": [],
      "source": [
        "training_args = TrainingArguments(\n",
        "    output_dir='/content/masakhane-pos',\n",
        "    evaluation_strategy = \"steps\",\n",
        "    save_strategy='steps',\n",
        "    eval_steps = epoch_steps//2,\n",
        "    save_steps = epoch_steps//2,\n",
        "    logging_strategy=\"steps\",\n",
        "    logging_steps= epoch_steps//2,\n",
        "    learning_rate=cfg.lr,\n",
        "    save_total_limit=1,\n",
        "    num_train_epochs=cfg.num_epoch,\n",
        "    fp16=True,\n",
        "    report_to='none',\n",
        "    metric_for_best_model = \"accuracy\",\n",
        "    greater_is_better=True,\n",
        "    load_best_model_at_end = True,\n",
        "    per_device_train_batch_size=cfg.batch_size,\n",
        "    per_device_eval_batch_size=cfg.batch_size,\n",
        "    warmup_steps = cfg.warmup_steps,\n",
        ")"
      ]
    },
    {
      "cell_type": "code",
      "execution_count": null,
      "metadata": {
        "id": "AFANGkrFo0OA"
      },
      "outputs": [],
      "source": [
        "trainer = Trainer(\n",
        "    model = model,\n",
        "    args = training_args,\n",
        "    compute_metrics = compute_metrics,\n",
        "    train_dataset = masakhane['train'],\n",
        "    eval_dataset = masakhane['valid'],\n",
        "    tokenizer = tokenizer,\n",
        "    callbacks = [EarlyStoppingCallback(5)],\n",
        ")"
      ]
    },
    {
      "cell_type": "markdown",
      "metadata": {
        "id": "FpInyE1oFybt"
      },
      "source": [
        "# **Model Training Starts !!!**"
      ]
    },
    {
      "cell_type": "code",
      "execution_count": null,
      "metadata": {
        "colab": {
          "base_uri": "https://localhost:8080/",
          "height": 481
        },
        "id": "Wi4oEIpCVZ_m",
        "outputId": "c9a9675a-98d8-415c-a177-c71dff704806"
      },
      "outputs": [
        {
          "name": "stderr",
          "output_type": "stream",
          "text": [
            "You're using a XLMRobertaTokenizerFast tokenizer. Please note that with a fast tokenizer, using the `__call__` method is faster than using a method to encode the text followed by a call to the `pad` method to get a padded encoding.\n"
          ]
        },
        {
          "data": {
            "text/html": [
              "\n",
              "    <div>\n",
              "      \n",
              "      <progress value='10024' max='42990' style='width:300px; height:20px; vertical-align: middle;'></progress>\n",
              "      [10024/42990 55:36 < 3:02:55, 3.00 it/s, Epoch 6/30]\n",
              "    </div>\n",
              "    <table border=\"1\" class=\"dataframe\">\n",
              "  <thead>\n",
              " <tr style=\"text-align: left;\">\n",
              "      <th>Step</th>\n",
              "      <th>Training Loss</th>\n",
              "      <th>Validation Loss</th>\n",
              "      <th>Accuracy</th>\n",
              "    </tr>\n",
              "  </thead>\n",
              "  <tbody>\n",
              "    <tr>\n",
              "      <td>716</td>\n",
              "      <td>1.963600</td>\n",
              "      <td>1.311872</td>\n",
              "      <td>0.629698</td>\n",
              "    </tr>\n",
              "    <tr>\n",
              "      <td>1432</td>\n",
              "      <td>1.051900</td>\n",
              "      <td>0.866540</td>\n",
              "      <td>0.753467</td>\n",
              "    </tr>\n",
              "    <tr>\n",
              "      <td>2148</td>\n",
              "      <td>0.787200</td>\n",
              "      <td>0.765431</td>\n",
              "      <td>0.781999</td>\n",
              "    </tr>\n",
              "    <tr>\n",
              "      <td>2864</td>\n",
              "      <td>0.656000</td>\n",
              "      <td>0.726134</td>\n",
              "      <td>0.789755</td>\n",
              "    </tr>\n",
              "    <tr>\n",
              "      <td>3580</td>\n",
              "      <td>0.577200</td>\n",
              "      <td>0.707048</td>\n",
              "      <td>0.798001</td>\n",
              "    </tr>\n",
              "    <tr>\n",
              "      <td>4296</td>\n",
              "      <td>0.533900</td>\n",
              "      <td>0.704399</td>\n",
              "      <td>0.795974</td>\n",
              "    </tr>\n",
              "    <tr>\n",
              "      <td>5012</td>\n",
              "      <td>0.499900</td>\n",
              "      <td>0.687499</td>\n",
              "      <td>0.799668</td>\n",
              "    </tr>\n",
              "    <tr>\n",
              "      <td>5728</td>\n",
              "      <td>0.473800</td>\n",
              "      <td>0.695865</td>\n",
              "      <td>0.799873</td>\n",
              "    </tr>\n",
              "    <tr>\n",
              "      <td>6444</td>\n",
              "      <td>0.454800</td>\n",
              "      <td>0.679069</td>\n",
              "      <td>0.801311</td>\n",
              "    </tr>\n",
              "    <tr>\n",
              "      <td>7160</td>\n",
              "      <td>0.436200</td>\n",
              "      <td>0.690138</td>\n",
              "      <td>0.794765</td>\n",
              "    </tr>\n",
              "    <tr>\n",
              "      <td>7876</td>\n",
              "      <td>0.422500</td>\n",
              "      <td>0.689447</td>\n",
              "      <td>0.798589</td>\n",
              "    </tr>\n",
              "    <tr>\n",
              "      <td>8592</td>\n",
              "      <td>0.412500</td>\n",
              "      <td>0.695024</td>\n",
              "      <td>0.795132</td>\n",
              "    </tr>\n",
              "    <tr>\n",
              "      <td>9308</td>\n",
              "      <td>0.396900</td>\n",
              "      <td>0.685881</td>\n",
              "      <td>0.794478</td>\n",
              "    </tr>\n",
              "    <tr>\n",
              "      <td>10024</td>\n",
              "      <td>0.392700</td>\n",
              "      <td>0.685463</td>\n",
              "      <td>0.798900</td>\n",
              "    </tr>\n",
              "  </tbody>\n",
              "</table><p>"
            ],
            "text/plain": [
              "<IPython.core.display.HTML object>"
            ]
          },
          "metadata": {},
          "output_type": "display_data"
        },
        {
          "name": "stdout",
          "output_type": "stream",
          "text": [
            "CPU times: user 44min 56s, sys: 10min 44s, total: 55min 41s\n",
            "Wall time: 55min 37s\n"
          ]
        },
        {
          "data": {
            "text/plain": [
              "TrainOutput(global_step=10024, training_loss=0.6470755221647733, metrics={'train_runtime': 3336.4647, 'train_samples_per_second': 206.05, 'train_steps_per_second': 12.885, 'total_flos': 5.81603309290656e+16, 'train_loss': 0.6470755221647733, 'epoch': 7.0})"
            ]
          },
          "execution_count": 36,
          "metadata": {},
          "output_type": "execute_result"
        }
      ],
      "source": [
        "%%time\n",
        "trainer.train()"
      ]
    },
    {
      "cell_type": "code",
      "execution_count": null,
      "metadata": {
        "colab": {
          "base_uri": "https://localhost:8080/",
          "height": 141
        },
        "id": "K5QywvAEVcd5",
        "outputId": "d4bf211c-645d-4faf-b419-c1551a00f5a9"
      },
      "outputs": [
        {
          "data": {
            "text/html": [
              "\n",
              "    <div>\n",
              "      \n",
              "      <progress value='285' max='285' style='width:300px; height:20px; vertical-align: middle;'></progress>\n",
              "      [285/285 00:19]\n",
              "    </div>\n",
              "    "
            ],
            "text/plain": [
              "<IPython.core.display.HTML object>"
            ]
          },
          "metadata": {},
          "output_type": "display_data"
        },
        {
          "data": {
            "text/plain": [
              "{'eval_loss': 0.679069459438324,\n",
              " 'eval_accuracy': 0.8013109180512762,\n",
              " 'eval_runtime': 19.8082,\n",
              " 'eval_samples_per_second': 230.057,\n",
              " 'eval_steps_per_second': 14.388,\n",
              " 'epoch': 7.0}"
            ]
          },
          "execution_count": 37,
          "metadata": {},
          "output_type": "execute_result"
        }
      ],
      "source": [
        "trainer.evaluate()"
      ]
    },
    {
      "cell_type": "markdown",
      "metadata": {
        "id": "PSCPruqD3V5Y"
      },
      "source": [
        "# **Saving and loading back my trained model above:**"
      ]
    },
    {
      "cell_type": "code",
      "execution_count": null,
      "metadata": {
        "id": "qzt6bzxQo0OU"
      },
      "outputs": [],
      "source": [
        "trainer.save_model(\"Lacuna_Masakhane_POS_model\")"
      ]
    },
    {
      "cell_type": "code",
      "execution_count": null,
      "metadata": {
        "id": "ri8A9-6eo0OV"
      },
      "outputs": [],
      "source": [
        "loaded_model = AutoModelForTokenClassification.from_pretrained(\n",
        "    \"/content/Lacuna_Masakhane_POS_model\",\n",
        "    num_labels = cfg.num_classes,\n",
        "\n",
        ")\n",
        "\n",
        "loaded_tokenizer = AutoTokenizer.from_pretrained(\n",
        "    '/content/Lacuna_Masakhane_POS_model'\n",
        ")"
      ]
    },
    {
      "cell_type": "code",
      "execution_count": null,
      "metadata": {
        "colab": {
          "base_uri": "https://localhost:8080/"
        },
        "id": "lnDVGHIgVmG2",
        "outputId": "54b35a2b-b185-48cd-a2f4-1d4541a21b60"
      },
      "outputs": [
        {
          "data": {
            "text/plain": [
              "11"
            ]
          },
          "execution_count": 40,
          "metadata": {},
          "output_type": "execute_result"
        }
      ],
      "source": [
        "del trainer, model, df_train, df_valid\n",
        "torch.cuda.empty_cache()\n",
        "gc.collect()"
      ]
    },
    {
      "cell_type": "markdown",
      "metadata": {
        "id": "hKgKikpT3vBt"
      },
      "source": [
        "# **Predicting on test data:**"
      ]
    },
    {
      "cell_type": "code",
      "execution_count": null,
      "metadata": {
        "colab": {
          "base_uri": "https://localhost:8080/",
          "height": 17
        },
        "id": "QZbTrLVZ8Wak",
        "outputId": "21ab7d7a-44ac-4a6f-d438-7ac846491e97"
      },
      "outputs": [
        {
          "data": {
            "text/html": [],
            "text/plain": [
              "<IPython.core.display.HTML object>"
            ]
          },
          "metadata": {},
          "output_type": "display_data"
        }
      ],
      "source": [
        "pad_token_label_id=-100\n",
        "\n",
        "test_args = TrainingArguments(\n",
        "    output_dir= '/content/',\n",
        "    do_train =False,\n",
        "    do_predict = True,\n",
        "    dataloader_drop_last = False\n",
        ")\n",
        "\n",
        "trainer = Trainer(\n",
        "    model = loaded_model,\n",
        "    args = test_args,\n",
        ")\n",
        "\n",
        "test_results = trainer.predict(masakhane['test'])"
      ]
    },
    {
      "cell_type": "markdown",
      "metadata": {
        "id": "wxMf3bNCup5R"
      },
      "source": [
        "# **Prepare Submission:**"
      ]
    },
    {
      "cell_type": "code",
      "execution_count": null,
      "metadata": {
        "colab": {
          "base_uri": "https://localhost:8080/",
          "height": 181
        },
        "id": "iVpF8YLeo0OZ",
        "outputId": "0a1adfa6-acb9-4825-8272-5edeba68027f"
      },
      "outputs": [
        {
          "data": {
            "text/html": [
              "<div>\n",
              "<style scoped>\n",
              "    .dataframe tbody tr th:only-of-type {\n",
              "        vertical-align: middle;\n",
              "    }\n",
              "\n",
              "    .dataframe tbody tr th {\n",
              "        vertical-align: top;\n",
              "    }\n",
              "\n",
              "    .dataframe thead th {\n",
              "        text-align: right;\n",
              "    }\n",
              "</style>\n",
              "<table border=\"1\" class=\"dataframe\">\n",
              "  <thead>\n",
              "    <tr style=\"text-align: right;\">\n",
              "      <th></th>\n",
              "      <th>sentence_Id</th>\n",
              "      <th>Id</th>\n",
              "      <th>Word</th>\n",
              "      <th>Language</th>\n",
              "      <th>Pos</th>\n",
              "    </tr>\n",
              "  </thead>\n",
              "  <tbody>\n",
              "    <tr>\n",
              "      <th>0</th>\n",
              "      <td>Id00qog2f11n</td>\n",
              "      <td>[Id00qog2f11n_0, Id00qog2f11n_1, Id00qog2f11n_...</td>\n",
              "      <td>[Ne, otim, penj, e, kind, Februar, tarik, 9, g...</td>\n",
              "      <td>[luo, luo, luo, luo, luo, luo, luo, luo, luo, ...</td>\n",
              "      <td>[AUX, VERB, NOUN, ADP, NOUN, PROPN, NOUN, NUM,...</td>\n",
              "    </tr>\n",
              "    <tr>\n",
              "      <th>1</th>\n",
              "      <td>Id01lywjj7oz</td>\n",
              "      <td>[Id01lywjj7oz_0, Id01lywjj7oz_1, Id01lywjj7oz_...</td>\n",
              "      <td>[Sifuna, ne, ojiwo, jonyuol, kod, joma, moko, ...</td>\n",
              "      <td>[luo, luo, luo, luo, luo, luo, luo, luo, luo, ...</td>\n",
              "      <td>[PROPN, AUX, VERB, NOUN, CCONJ, NOUN, ADJ, VER...</td>\n",
              "    </tr>\n",
              "  </tbody>\n",
              "</table>\n",
              "</div>"
            ],
            "text/plain": [
              "    sentence_Id                                                 Id  \\\n",
              "0  Id00qog2f11n  [Id00qog2f11n_0, Id00qog2f11n_1, Id00qog2f11n_...   \n",
              "1  Id01lywjj7oz  [Id01lywjj7oz_0, Id01lywjj7oz_1, Id01lywjj7oz_...   \n",
              "\n",
              "                                                Word  \\\n",
              "0  [Ne, otim, penj, e, kind, Februar, tarik, 9, g...   \n",
              "1  [Sifuna, ne, ojiwo, jonyuol, kod, joma, moko, ...   \n",
              "\n",
              "                                            Language  \\\n",
              "0  [luo, luo, luo, luo, luo, luo, luo, luo, luo, ...   \n",
              "1  [luo, luo, luo, luo, luo, luo, luo, luo, luo, ...   \n",
              "\n",
              "                                                 Pos  \n",
              "0  [AUX, VERB, NOUN, ADP, NOUN, PROPN, NOUN, NUM,...  \n",
              "1  [PROPN, AUX, VERB, NOUN, CCONJ, NOUN, ADJ, VER...  "
            ]
          },
          "execution_count": 42,
          "metadata": {},
          "output_type": "execute_result"
        }
      ],
      "source": [
        "result = test_results.predictions.argmax(axis = -1)\n",
        "\n",
        "preds_list = [[] for _ in range(test_results.label_ids.shape[0])]\n",
        "for i in range(test_results.label_ids.shape[0]):\n",
        "    for j in range(test_results.label_ids.shape[1]):\n",
        "        if test_results.label_ids[i, j] != pad_token_label_id:\n",
        "            preds_list[i].append(label_map[result[i][j]])\n",
        "\n",
        "df_test['Pos'] = preds_list\n",
        "df_test.head(2)"
      ]
    },
    {
      "cell_type": "code",
      "execution_count": null,
      "metadata": {
        "colab": {
          "base_uri": "https://localhost:8080/",
          "height": 206
        },
        "id": "WE-ym-zKo0Oa",
        "outputId": "612be017-a82c-4213-e7ce-29f370b9d73a"
      },
      "outputs": [
        {
          "data": {
            "text/html": [
              "<div>\n",
              "<style scoped>\n",
              "    .dataframe tbody tr th:only-of-type {\n",
              "        vertical-align: middle;\n",
              "    }\n",
              "\n",
              "    .dataframe tbody tr th {\n",
              "        vertical-align: top;\n",
              "    }\n",
              "\n",
              "    .dataframe thead th {\n",
              "        text-align: right;\n",
              "    }\n",
              "</style>\n",
              "<table border=\"1\" class=\"dataframe\">\n",
              "  <thead>\n",
              "    <tr style=\"text-align: right;\">\n",
              "      <th></th>\n",
              "      <th>Id</th>\n",
              "      <th>Pos</th>\n",
              "    </tr>\n",
              "  </thead>\n",
              "  <tbody>\n",
              "    <tr>\n",
              "      <th>0</th>\n",
              "      <td>Id00qog2f11n_0</td>\n",
              "      <td>AUX</td>\n",
              "    </tr>\n",
              "    <tr>\n",
              "      <th>1</th>\n",
              "      <td>Id00qog2f11n_1</td>\n",
              "      <td>VERB</td>\n",
              "    </tr>\n",
              "    <tr>\n",
              "      <th>2</th>\n",
              "      <td>Id00qog2f11n_2</td>\n",
              "      <td>NOUN</td>\n",
              "    </tr>\n",
              "    <tr>\n",
              "      <th>3</th>\n",
              "      <td>Id00qog2f11n_3</td>\n",
              "      <td>ADP</td>\n",
              "    </tr>\n",
              "    <tr>\n",
              "      <th>4</th>\n",
              "      <td>Id00qog2f11n_4</td>\n",
              "      <td>NOUN</td>\n",
              "    </tr>\n",
              "  </tbody>\n",
              "</table>\n",
              "</div>"
            ],
            "text/plain": [
              "               Id   Pos\n",
              "0  Id00qog2f11n_0   AUX\n",
              "1  Id00qog2f11n_1  VERB\n",
              "2  Id00qog2f11n_2  NOUN\n",
              "3  Id00qog2f11n_3   ADP\n",
              "4  Id00qog2f11n_4  NOUN"
            ]
          },
          "execution_count": 43,
          "metadata": {},
          "output_type": "execute_result"
        }
      ],
      "source": [
        "submission = df_test[['Id', 'Pos']].explode(column=['Id', 'Pos'], ignore_index=True)\n",
        "submission.head()"
      ]
    },
    {
      "cell_type": "code",
      "execution_count": null,
      "metadata": {
        "id": "nbEOQsmho0Ob"
      },
      "outputs": [],
      "source": [
        "submission.to_csv(\"afro-xlmr-large-75L_3vl.csv\", index = False)"
      ]
    },
    {
      "cell_type": "code",
      "execution_count": null,
      "metadata": {
        "colab": {
          "base_uri": "https://localhost:8080/"
        },
        "id": "yD7BkN3p1Jx7",
        "outputId": "08ce078b-394e-42b6-f5f4-71e193e3cc5f"
      },
      "outputs": [
        {
          "data": {
            "text/plain": [
              "NOUN     6806\n",
              "VERB     4643\n",
              "ADP      3821\n",
              "PUNCT    2992\n",
              "PROPN    2672\n",
              "AUX      2449\n",
              "SCONJ    1902\n",
              "PRON     1561\n",
              "DET      1534\n",
              "CCONJ     952\n",
              "ADJ       820\n",
              "ADV       754\n",
              "NUM       574\n",
              "PART      559\n",
              "X           6\n",
              "Name: Pos, dtype: int64"
            ]
          },
          "execution_count": 45,
          "metadata": {},
          "output_type": "execute_result"
        }
      ],
      "source": [
        "submission['Pos'].value_counts()"
      ]
    },
    {
      "cell_type": "code",
      "execution_count": null,
      "metadata": {
        "id": "1n8GqJO7XU-E"
      },
      "outputs": [],
      "source": [
        "from google.colab import files\n",
        "files.download(\"afro-xlmr-large-75L_3vl.csv\")"
      ]
    },
    {
      "cell_type": "code",
      "execution_count": null,
      "metadata": {
        "id": "6bKMNfJb8BSK"
      },
      "outputs": [],
      "source": []
    },
    {
      "cell_type": "code",
      "execution_count": null,
      "metadata": {
        "id": "TRje9lqhIWty"
      },
      "outputs": [],
      "source": []
    }
  ],
  "metadata": {
    "accelerator": "GPU",
    "colab": {
      "provenance": []
    },
    "kernelspec": {
      "display_name": "ai4ex",
      "language": "python",
      "name": "ai4ex"
    },
    "language_info": {
      "codemirror_mode": {
        "name": "ipython",
        "version": 3
      },
      "file_extension": ".py",
      "mimetype": "text/x-python",
      "name": "python",
      "nbconvert_exporter": "python",
      "pygments_lexer": "ipython3",
      "version": "3.9.17"
    },
    "widgets": {
      "application/vnd.jupyter.widget-state+json": {
        "05e0fe5f31704bb28c5e09fda5bd5c02": {
          "model_module": "@jupyter-widgets/controls",
          "model_module_version": "1.5.0",
          "model_name": "DescriptionStyleModel",
          "state": {
            "_model_module": "@jupyter-widgets/controls",
            "_model_module_version": "1.5.0",
            "_model_name": "DescriptionStyleModel",
            "_view_count": null,
            "_view_module": "@jupyter-widgets/base",
            "_view_module_version": "1.2.0",
            "_view_name": "StyleView",
            "description_width": ""
          }
        },
        "0f4e30935a1a4535be29db81e9f94684": {
          "model_module": "@jupyter-widgets/base",
          "model_module_version": "1.2.0",
          "model_name": "LayoutModel",
          "state": {
            "_model_module": "@jupyter-widgets/base",
            "_model_module_version": "1.2.0",
            "_model_name": "LayoutModel",
            "_view_count": null,
            "_view_module": "@jupyter-widgets/base",
            "_view_module_version": "1.2.0",
            "_view_name": "LayoutView",
            "align_content": null,
            "align_items": null,
            "align_self": null,
            "border": null,
            "bottom": null,
            "display": null,
            "flex": null,
            "flex_flow": null,
            "grid_area": null,
            "grid_auto_columns": null,
            "grid_auto_flow": null,
            "grid_auto_rows": null,
            "grid_column": null,
            "grid_gap": null,
            "grid_row": null,
            "grid_template_areas": null,
            "grid_template_columns": null,
            "grid_template_rows": null,
            "height": null,
            "justify_content": null,
            "justify_items": null,
            "left": null,
            "margin": null,
            "max_height": null,
            "max_width": null,
            "min_height": null,
            "min_width": null,
            "object_fit": null,
            "object_position": null,
            "order": null,
            "overflow": null,
            "overflow_x": null,
            "overflow_y": null,
            "padding": null,
            "right": null,
            "top": null,
            "visibility": null,
            "width": null
          }
        },
        "13e0e67b2a934f55ab549efe4049ddd6": {
          "model_module": "@jupyter-widgets/controls",
          "model_module_version": "1.5.0",
          "model_name": "HTMLModel",
          "state": {
            "_dom_classes": [],
            "_model_module": "@jupyter-widgets/controls",
            "_model_module_version": "1.5.0",
            "_model_name": "HTMLModel",
            "_view_count": null,
            "_view_module": "@jupyter-widgets/controls",
            "_view_module_version": "1.5.0",
            "_view_name": "HTMLView",
            "description": "",
            "description_tooltip": null,
            "layout": "IPY_MODEL_e21ebdb9138f4ab1ad1b8eafe89ca375",
            "placeholder": "​",
            "style": "IPY_MODEL_05e0fe5f31704bb28c5e09fda5bd5c02",
            "value": "Downloading model.safetensors: 100%"
          }
        },
        "14fa7dc256df424c974cdfe04061e15b": {
          "model_module": "@jupyter-widgets/controls",
          "model_module_version": "1.5.0",
          "model_name": "HTMLModel",
          "state": {
            "_dom_classes": [],
            "_model_module": "@jupyter-widgets/controls",
            "_model_module_version": "1.5.0",
            "_model_name": "HTMLModel",
            "_view_count": null,
            "_view_module": "@jupyter-widgets/controls",
            "_view_module_version": "1.5.0",
            "_view_name": "HTMLView",
            "description": "",
            "description_tooltip": null,
            "layout": "IPY_MODEL_0f4e30935a1a4535be29db81e9f94684",
            "placeholder": "​",
            "style": "IPY_MODEL_2b35d6a1b7da4e2a9fa786a82cd3d3ce",
            "value": " 714/714 [00:00&lt;00:00, 38.5kB/s]"
          }
        },
        "24b7b1b00dcd49d2a7d308ce5b2c6711": {
          "model_module": "@jupyter-widgets/base",
          "model_module_version": "1.2.0",
          "model_name": "LayoutModel",
          "state": {
            "_model_module": "@jupyter-widgets/base",
            "_model_module_version": "1.2.0",
            "_model_name": "LayoutModel",
            "_view_count": null,
            "_view_module": "@jupyter-widgets/base",
            "_view_module_version": "1.2.0",
            "_view_name": "LayoutView",
            "align_content": null,
            "align_items": null,
            "align_self": null,
            "border": null,
            "bottom": null,
            "display": null,
            "flex": null,
            "flex_flow": null,
            "grid_area": null,
            "grid_auto_columns": null,
            "grid_auto_flow": null,
            "grid_auto_rows": null,
            "grid_column": null,
            "grid_gap": null,
            "grid_row": null,
            "grid_template_areas": null,
            "grid_template_columns": null,
            "grid_template_rows": null,
            "height": null,
            "justify_content": null,
            "justify_items": null,
            "left": null,
            "margin": null,
            "max_height": null,
            "max_width": null,
            "min_height": null,
            "min_width": null,
            "object_fit": null,
            "object_position": null,
            "order": null,
            "overflow": null,
            "overflow_x": null,
            "overflow_y": null,
            "padding": null,
            "right": null,
            "top": null,
            "visibility": null,
            "width": null
          }
        },
        "2b35d6a1b7da4e2a9fa786a82cd3d3ce": {
          "model_module": "@jupyter-widgets/controls",
          "model_module_version": "1.5.0",
          "model_name": "DescriptionStyleModel",
          "state": {
            "_model_module": "@jupyter-widgets/controls",
            "_model_module_version": "1.5.0",
            "_model_name": "DescriptionStyleModel",
            "_view_count": null,
            "_view_module": "@jupyter-widgets/base",
            "_view_module_version": "1.2.0",
            "_view_name": "StyleView",
            "description_width": ""
          }
        },
        "400e19fbd67946ee8d3fa946af1b406c": {
          "model_module": "@jupyter-widgets/base",
          "model_module_version": "1.2.0",
          "model_name": "LayoutModel",
          "state": {
            "_model_module": "@jupyter-widgets/base",
            "_model_module_version": "1.2.0",
            "_model_name": "LayoutModel",
            "_view_count": null,
            "_view_module": "@jupyter-widgets/base",
            "_view_module_version": "1.2.0",
            "_view_name": "LayoutView",
            "align_content": null,
            "align_items": null,
            "align_self": null,
            "border": null,
            "bottom": null,
            "display": null,
            "flex": null,
            "flex_flow": null,
            "grid_area": null,
            "grid_auto_columns": null,
            "grid_auto_flow": null,
            "grid_auto_rows": null,
            "grid_column": null,
            "grid_gap": null,
            "grid_row": null,
            "grid_template_areas": null,
            "grid_template_columns": null,
            "grid_template_rows": null,
            "height": null,
            "justify_content": null,
            "justify_items": null,
            "left": null,
            "margin": null,
            "max_height": null,
            "max_width": null,
            "min_height": null,
            "min_width": null,
            "object_fit": null,
            "object_position": null,
            "order": null,
            "overflow": null,
            "overflow_x": null,
            "overflow_y": null,
            "padding": null,
            "right": null,
            "top": null,
            "visibility": null,
            "width": null
          }
        },
        "40d99664b3574a149f7548edd2adb27e": {
          "model_module": "@jupyter-widgets/base",
          "model_module_version": "1.2.0",
          "model_name": "LayoutModel",
          "state": {
            "_model_module": "@jupyter-widgets/base",
            "_model_module_version": "1.2.0",
            "_model_name": "LayoutModel",
            "_view_count": null,
            "_view_module": "@jupyter-widgets/base",
            "_view_module_version": "1.2.0",
            "_view_name": "LayoutView",
            "align_content": null,
            "align_items": null,
            "align_self": null,
            "border": null,
            "bottom": null,
            "display": null,
            "flex": null,
            "flex_flow": null,
            "grid_area": null,
            "grid_auto_columns": null,
            "grid_auto_flow": null,
            "grid_auto_rows": null,
            "grid_column": null,
            "grid_gap": null,
            "grid_row": null,
            "grid_template_areas": null,
            "grid_template_columns": null,
            "grid_template_rows": null,
            "height": null,
            "justify_content": null,
            "justify_items": null,
            "left": null,
            "margin": null,
            "max_height": null,
            "max_width": null,
            "min_height": null,
            "min_width": null,
            "object_fit": null,
            "object_position": null,
            "order": null,
            "overflow": null,
            "overflow_x": null,
            "overflow_y": null,
            "padding": null,
            "right": null,
            "top": null,
            "visibility": null,
            "width": null
          }
        },
        "5165b08120ba4652a0f1c46a361b27a3": {
          "model_module": "@jupyter-widgets/controls",
          "model_module_version": "1.5.0",
          "model_name": "HBoxModel",
          "state": {
            "_dom_classes": [],
            "_model_module": "@jupyter-widgets/controls",
            "_model_module_version": "1.5.0",
            "_model_name": "HBoxModel",
            "_view_count": null,
            "_view_module": "@jupyter-widgets/controls",
            "_view_module_version": "1.5.0",
            "_view_name": "HBoxView",
            "box_style": "",
            "children": [
              "IPY_MODEL_13e0e67b2a934f55ab549efe4049ddd6",
              "IPY_MODEL_6059f62652684d5a82b3549381772cfd",
              "IPY_MODEL_fa9fb150019e48438631c92ab3857201"
            ],
            "layout": "IPY_MODEL_400e19fbd67946ee8d3fa946af1b406c"
          }
        },
        "5f45277925f241afab6d77a53314f92e": {
          "model_module": "@jupyter-widgets/controls",
          "model_module_version": "1.5.0",
          "model_name": "DescriptionStyleModel",
          "state": {
            "_model_module": "@jupyter-widgets/controls",
            "_model_module_version": "1.5.0",
            "_model_name": "DescriptionStyleModel",
            "_view_count": null,
            "_view_module": "@jupyter-widgets/base",
            "_view_module_version": "1.2.0",
            "_view_name": "StyleView",
            "description_width": ""
          }
        },
        "6059f62652684d5a82b3549381772cfd": {
          "model_module": "@jupyter-widgets/controls",
          "model_module_version": "1.5.0",
          "model_name": "FloatProgressModel",
          "state": {
            "_dom_classes": [],
            "_model_module": "@jupyter-widgets/controls",
            "_model_module_version": "1.5.0",
            "_model_name": "FloatProgressModel",
            "_view_count": null,
            "_view_module": "@jupyter-widgets/controls",
            "_view_module_version": "1.5.0",
            "_view_name": "ProgressView",
            "bar_style": "success",
            "description": "",
            "description_tooltip": null,
            "layout": "IPY_MODEL_24b7b1b00dcd49d2a7d308ce5b2c6711",
            "max": 3265627192,
            "min": 0,
            "orientation": "horizontal",
            "style": "IPY_MODEL_65a26071a8264ba388aa7c6825b3a13a",
            "value": 3265627192
          }
        },
        "65a26071a8264ba388aa7c6825b3a13a": {
          "model_module": "@jupyter-widgets/controls",
          "model_module_version": "1.5.0",
          "model_name": "ProgressStyleModel",
          "state": {
            "_model_module": "@jupyter-widgets/controls",
            "_model_module_version": "1.5.0",
            "_model_name": "ProgressStyleModel",
            "_view_count": null,
            "_view_module": "@jupyter-widgets/base",
            "_view_module_version": "1.2.0",
            "_view_name": "StyleView",
            "bar_color": null,
            "description_width": ""
          }
        },
        "6ceb64bd2f624b35bee748f1e88e55e1": {
          "model_module": "@jupyter-widgets/base",
          "model_module_version": "1.2.0",
          "model_name": "LayoutModel",
          "state": {
            "_model_module": "@jupyter-widgets/base",
            "_model_module_version": "1.2.0",
            "_model_name": "LayoutModel",
            "_view_count": null,
            "_view_module": "@jupyter-widgets/base",
            "_view_module_version": "1.2.0",
            "_view_name": "LayoutView",
            "align_content": null,
            "align_items": null,
            "align_self": null,
            "border": null,
            "bottom": null,
            "display": null,
            "flex": null,
            "flex_flow": null,
            "grid_area": null,
            "grid_auto_columns": null,
            "grid_auto_flow": null,
            "grid_auto_rows": null,
            "grid_column": null,
            "grid_gap": null,
            "grid_row": null,
            "grid_template_areas": null,
            "grid_template_columns": null,
            "grid_template_rows": null,
            "height": null,
            "justify_content": null,
            "justify_items": null,
            "left": null,
            "margin": null,
            "max_height": null,
            "max_width": null,
            "min_height": null,
            "min_width": null,
            "object_fit": null,
            "object_position": null,
            "order": null,
            "overflow": null,
            "overflow_x": null,
            "overflow_y": null,
            "padding": null,
            "right": null,
            "top": null,
            "visibility": null,
            "width": null
          }
        },
        "71bbb4d34412406ea76a82146bad7d26": {
          "model_module": "@jupyter-widgets/base",
          "model_module_version": "1.2.0",
          "model_name": "LayoutModel",
          "state": {
            "_model_module": "@jupyter-widgets/base",
            "_model_module_version": "1.2.0",
            "_model_name": "LayoutModel",
            "_view_count": null,
            "_view_module": "@jupyter-widgets/base",
            "_view_module_version": "1.2.0",
            "_view_name": "LayoutView",
            "align_content": null,
            "align_items": null,
            "align_self": null,
            "border": null,
            "bottom": null,
            "display": null,
            "flex": null,
            "flex_flow": null,
            "grid_area": null,
            "grid_auto_columns": null,
            "grid_auto_flow": null,
            "grid_auto_rows": null,
            "grid_column": null,
            "grid_gap": null,
            "grid_row": null,
            "grid_template_areas": null,
            "grid_template_columns": null,
            "grid_template_rows": null,
            "height": null,
            "justify_content": null,
            "justify_items": null,
            "left": null,
            "margin": null,
            "max_height": null,
            "max_width": null,
            "min_height": null,
            "min_width": null,
            "object_fit": null,
            "object_position": null,
            "order": null,
            "overflow": null,
            "overflow_x": null,
            "overflow_y": null,
            "padding": null,
            "right": null,
            "top": null,
            "visibility": null,
            "width": null
          }
        },
        "8c6512e4830b4000a38378bb6fa547c1": {
          "model_module": "@jupyter-widgets/controls",
          "model_module_version": "1.5.0",
          "model_name": "HBoxModel",
          "state": {
            "_dom_classes": [],
            "_model_module": "@jupyter-widgets/controls",
            "_model_module_version": "1.5.0",
            "_model_name": "HBoxModel",
            "_view_count": null,
            "_view_module": "@jupyter-widgets/controls",
            "_view_module_version": "1.5.0",
            "_view_name": "HBoxView",
            "box_style": "",
            "children": [
              "IPY_MODEL_af9b51a653aa4e82be54515979f6b62e",
              "IPY_MODEL_ecca9a811c8c4ed6ba24a874cb0a82e0",
              "IPY_MODEL_14fa7dc256df424c974cdfe04061e15b"
            ],
            "layout": "IPY_MODEL_71bbb4d34412406ea76a82146bad7d26"
          }
        },
        "9d3111f95b504090a9a86ad881d1731b": {
          "model_module": "@jupyter-widgets/base",
          "model_module_version": "1.2.0",
          "model_name": "LayoutModel",
          "state": {
            "_model_module": "@jupyter-widgets/base",
            "_model_module_version": "1.2.0",
            "_model_name": "LayoutModel",
            "_view_count": null,
            "_view_module": "@jupyter-widgets/base",
            "_view_module_version": "1.2.0",
            "_view_name": "LayoutView",
            "align_content": null,
            "align_items": null,
            "align_self": null,
            "border": null,
            "bottom": null,
            "display": null,
            "flex": null,
            "flex_flow": null,
            "grid_area": null,
            "grid_auto_columns": null,
            "grid_auto_flow": null,
            "grid_auto_rows": null,
            "grid_column": null,
            "grid_gap": null,
            "grid_row": null,
            "grid_template_areas": null,
            "grid_template_columns": null,
            "grid_template_rows": null,
            "height": null,
            "justify_content": null,
            "justify_items": null,
            "left": null,
            "margin": null,
            "max_height": null,
            "max_width": null,
            "min_height": null,
            "min_width": null,
            "object_fit": null,
            "object_position": null,
            "order": null,
            "overflow": null,
            "overflow_x": null,
            "overflow_y": null,
            "padding": null,
            "right": null,
            "top": null,
            "visibility": null,
            "width": null
          }
        },
        "af9b51a653aa4e82be54515979f6b62e": {
          "model_module": "@jupyter-widgets/controls",
          "model_module_version": "1.5.0",
          "model_name": "HTMLModel",
          "state": {
            "_dom_classes": [],
            "_model_module": "@jupyter-widgets/controls",
            "_model_module_version": "1.5.0",
            "_model_name": "HTMLModel",
            "_view_count": null,
            "_view_module": "@jupyter-widgets/controls",
            "_view_module_version": "1.5.0",
            "_view_name": "HTMLView",
            "description": "",
            "description_tooltip": null,
            "layout": "IPY_MODEL_9d3111f95b504090a9a86ad881d1731b",
            "placeholder": "​",
            "style": "IPY_MODEL_ceebaaa07e9e4d8eac9b1238f455d4ec",
            "value": "Downloading (…)lve/main/config.json: 100%"
          }
        },
        "b51210dffc1f4d5abaa4ea7cc76ad7f9": {
          "model_module": "@jupyter-widgets/controls",
          "model_module_version": "1.5.0",
          "model_name": "ProgressStyleModel",
          "state": {
            "_model_module": "@jupyter-widgets/controls",
            "_model_module_version": "1.5.0",
            "_model_name": "ProgressStyleModel",
            "_view_count": null,
            "_view_module": "@jupyter-widgets/base",
            "_view_module_version": "1.2.0",
            "_view_name": "StyleView",
            "bar_color": null,
            "description_width": ""
          }
        },
        "ceebaaa07e9e4d8eac9b1238f455d4ec": {
          "model_module": "@jupyter-widgets/controls",
          "model_module_version": "1.5.0",
          "model_name": "DescriptionStyleModel",
          "state": {
            "_model_module": "@jupyter-widgets/controls",
            "_model_module_version": "1.5.0",
            "_model_name": "DescriptionStyleModel",
            "_view_count": null,
            "_view_module": "@jupyter-widgets/base",
            "_view_module_version": "1.2.0",
            "_view_name": "StyleView",
            "description_width": ""
          }
        },
        "e21ebdb9138f4ab1ad1b8eafe89ca375": {
          "model_module": "@jupyter-widgets/base",
          "model_module_version": "1.2.0",
          "model_name": "LayoutModel",
          "state": {
            "_model_module": "@jupyter-widgets/base",
            "_model_module_version": "1.2.0",
            "_model_name": "LayoutModel",
            "_view_count": null,
            "_view_module": "@jupyter-widgets/base",
            "_view_module_version": "1.2.0",
            "_view_name": "LayoutView",
            "align_content": null,
            "align_items": null,
            "align_self": null,
            "border": null,
            "bottom": null,
            "display": null,
            "flex": null,
            "flex_flow": null,
            "grid_area": null,
            "grid_auto_columns": null,
            "grid_auto_flow": null,
            "grid_auto_rows": null,
            "grid_column": null,
            "grid_gap": null,
            "grid_row": null,
            "grid_template_areas": null,
            "grid_template_columns": null,
            "grid_template_rows": null,
            "height": null,
            "justify_content": null,
            "justify_items": null,
            "left": null,
            "margin": null,
            "max_height": null,
            "max_width": null,
            "min_height": null,
            "min_width": null,
            "object_fit": null,
            "object_position": null,
            "order": null,
            "overflow": null,
            "overflow_x": null,
            "overflow_y": null,
            "padding": null,
            "right": null,
            "top": null,
            "visibility": null,
            "width": null
          }
        },
        "ecca9a811c8c4ed6ba24a874cb0a82e0": {
          "model_module": "@jupyter-widgets/controls",
          "model_module_version": "1.5.0",
          "model_name": "FloatProgressModel",
          "state": {
            "_dom_classes": [],
            "_model_module": "@jupyter-widgets/controls",
            "_model_module_version": "1.5.0",
            "_model_name": "FloatProgressModel",
            "_view_count": null,
            "_view_module": "@jupyter-widgets/controls",
            "_view_module_version": "1.5.0",
            "_view_name": "ProgressView",
            "bar_style": "success",
            "description": "",
            "description_tooltip": null,
            "layout": "IPY_MODEL_6ceb64bd2f624b35bee748f1e88e55e1",
            "max": 714,
            "min": 0,
            "orientation": "horizontal",
            "style": "IPY_MODEL_b51210dffc1f4d5abaa4ea7cc76ad7f9",
            "value": 714
          }
        },
        "fa9fb150019e48438631c92ab3857201": {
          "model_module": "@jupyter-widgets/controls",
          "model_module_version": "1.5.0",
          "model_name": "HTMLModel",
          "state": {
            "_dom_classes": [],
            "_model_module": "@jupyter-widgets/controls",
            "_model_module_version": "1.5.0",
            "_model_name": "HTMLModel",
            "_view_count": null,
            "_view_module": "@jupyter-widgets/controls",
            "_view_module_version": "1.5.0",
            "_view_name": "HTMLView",
            "description": "",
            "description_tooltip": null,
            "layout": "IPY_MODEL_40d99664b3574a149f7548edd2adb27e",
            "placeholder": "​",
            "style": "IPY_MODEL_5f45277925f241afab6d77a53314f92e",
            "value": " 3.27G/3.27G [00:32&lt;00:00, 181MB/s]"
          }
        }
      }
    }
  },
  "nbformat": 4,
  "nbformat_minor": 0
}